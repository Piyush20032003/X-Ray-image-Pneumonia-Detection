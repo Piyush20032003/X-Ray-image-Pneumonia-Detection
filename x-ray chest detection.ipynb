{
 "cells": [
  {
   "cell_type": "markdown",
   "metadata": {},
   "source": [
    "## Pneumonia Detection"
   ]
  },
  {
   "cell_type": "code",
   "execution_count": 1,
   "metadata": {},
   "outputs": [],
   "source": [
    "from keras.preprocessing import image"
   ]
  },
  {
   "cell_type": "markdown",
   "metadata": {},
   "source": [
    "### Checking the images"
   ]
  },
  {
   "cell_type": "code",
   "execution_count": 2,
   "metadata": {},
   "outputs": [
    {
     "name": "stderr",
     "output_type": "stream",
     "text": [
      "<>:1: SyntaxWarning: invalid escape sequence '\\P'\n",
      "<>:1: SyntaxWarning: invalid escape sequence '\\P'\n",
      "C:\\Users\\piyus\\AppData\\Local\\Temp\\ipykernel_11180\\2714365378.py:1: SyntaxWarning: invalid escape sequence '\\P'\n",
      "  testing_image = image.load_img('test\\PNEUMONIA\\person1_virus_6.jpeg',target_size=(128,128))\n"
     ]
    },
    {
     "data": {
      "image/jpeg": "[encoded data removed]",
      "image/png": "[encoded data removed]",
      "text/plain": [
       "<PIL.Image.Image image mode=RGB size=128x128>"
      ]
     },
     "execution_count": 2,
     "metadata": {},
     "output_type": "execute_result"
    }
   ],
   "source": [
    "testing_image = image.load_img('test\\PNEUMONIA\\person1_virus_6.jpeg',target_size=(128,128))\n",
    "testing_image"
   ]
  },
  {
   "cell_type": "code",
   "execution_count": 3,
   "metadata": {},
   "outputs": [
    {
     "name": "stdout",
     "output_type": "stream",
     "text": [
      "[[[ 22  22  22]\n",
      "  [ 24  24  24]\n",
      "  [ 24  24  24]\n",
      "  ...\n",
      "  [ 96  96  96]\n",
      "  [ 94  94  94]\n",
      "  [ 93  93  93]]\n",
      "\n",
      " [[ 23  23  23]\n",
      "  [ 24  24  24]\n",
      "  [ 24  24  24]\n",
      "  ...\n",
      "  [ 97  97  97]\n",
      "  [ 94  94  94]\n",
      "  [ 92  92  92]]\n",
      "\n",
      " [[ 24  24  24]\n",
      "  [ 24  24  24]\n",
      "  [ 23  23  23]\n",
      "  ...\n",
      "  [ 99  99  99]\n",
      "  [ 96  96  96]\n",
      "  [ 94  94  94]]\n",
      "\n",
      " ...\n",
      "\n",
      " [[ 49  49  49]\n",
      "  [ 50  50  50]\n",
      "  [ 48  48  48]\n",
      "  ...\n",
      "  [119 119 119]\n",
      "  [119 119 119]\n",
      "  [119 119 119]]\n",
      "\n",
      " [[ 50  50  50]\n",
      "  [ 52  52  52]\n",
      "  [ 53  53  53]\n",
      "  ...\n",
      "  [123 123 123]\n",
      "  [124 124 124]\n",
      "  [123 123 123]]\n",
      "\n",
      " [[ 52  52  52]\n",
      "  [ 53  53  53]\n",
      "  [ 54  54  54]\n",
      "  ...\n",
      "  [129 129 129]\n",
      "  [128 128 128]\n",
      "  [127 127 127]]]\n"
     ]
    }
   ],
   "source": [
    "# Python code to read image\n",
    "import cv2\n",
    "\n",
    "# To read image from disk, we use \n",
    "# we use imread function, in below method\n",
    "img = cv2.imread('chest_xray/train/NORMAL/IM-0115-0001.jpeg')\n",
    "print(img)"
   ]
  },
  {
   "cell_type": "code",
   "execution_count": 4,
   "metadata": {},
   "outputs": [],
   "source": [
    "# The image data is stored in array, which is basically pixel value ranging from 0 - 255\n",
    "# To normalize the data we divide it from 255 or 256, making it ranging from 0 to 1"
   ]
  },
  {
   "cell_type": "code",
   "execution_count": 5,
   "metadata": {},
   "outputs": [],
   "source": [
    "# The ImageDataGenerator class in Keras provides a convenient way to perform real-time data augmentation on image datasets during model training.\n",
    "from tensorflow.keras.preprocessing.image import ImageDataGenerator"
   ]
  },
  {
   "cell_type": "code",
   "execution_count": 6,
   "metadata": {},
   "outputs": [],
   "source": [
    "# Preprocess the data\n",
    "train_datagen = ImageDataGenerator(rescale= 1.0/255,\n",
    "                                   shear_range= 0.2,\n",
    "                                   zoom_range= 0.2,\n",
    "                                   horizontal_flip = True)"
   ]
  },
  {
   "cell_type": "code",
   "execution_count": 7,
   "metadata": {},
   "outputs": [],
   "source": [
    "test_datagen = ImageDataGenerator(rescale=1.0/255)"
   ]
  },
  {
   "cell_type": "code",
   "execution_count": 8,
   "metadata": {},
   "outputs": [],
   "source": [
    "ref = {\"dir_train\": \"chest_xray/train\",\n",
    "       \"dir_test\": \"chest_xray/test\"}"
   ]
  },
  {
   "cell_type": "code",
   "execution_count": 9,
   "metadata": {},
   "outputs": [
    {
     "name": "stdout",
     "output_type": "stream",
     "text": [
      "Found 5216 images belonging to 2 classes.\n"
     ]
    }
   ],
   "source": [
    "# Let's create our images\n",
    "training_set = train_datagen.flow_from_directory(ref[\"dir_train\"],target_size=(64,64),batch_size=32,class_mode='binary')"
   ]
  },
  {
   "cell_type": "code",
   "execution_count": 10,
   "metadata": {},
   "outputs": [
    {
     "name": "stdout",
     "output_type": "stream",
     "text": [
      "Found 624 images belonging to 2 classes.\n"
     ]
    }
   ],
   "source": [
    "test_set = test_datagen.flow_from_directory(ref[\"dir_test\"],target_size=(64,64),batch_size=32,class_mode='binary')"
   ]
  },
  {
   "cell_type": "code",
   "execution_count": 11,
   "metadata": {},
   "outputs": [
    {
     "name": "stdout",
     "output_type": "stream",
     "text": [
      "{'NORMAL': 0, 'PNEUMONIA': 1}\n"
     ]
    }
   ],
   "source": [
    "print(training_set.class_indices)\n",
    "# Binary Classification, 0 for Normal and 1 for Pneumonia"
   ]
  },
  {
   "cell_type": "markdown",
   "metadata": {},
   "source": [
    "### CNN Model"
   ]
  },
  {
   "cell_type": "markdown",
   "metadata": {},
   "source": [
    "Will make CNN model in these 5 steps:<br>\n",
    "1) Input the Data<br>\n",
    "2) conv<br>\n",
    "3) Max Pooling<br>\n",
    "4) Flatten<br>\n",
    "5) ANN"
   ]
  },
  {
   "cell_type": "code",
   "execution_count": 12,
   "metadata": {},
   "outputs": [],
   "source": [
    "import keras\n",
    "from keras.models import Sequential\n",
    "from keras.layers import Flatten, Conv2D, MaxPooling2D\n",
    "from keras.layers import Dense, Dropout"
   ]
  },
  {
   "cell_type": "code",
   "execution_count": 13,
   "metadata": {},
   "outputs": [],
   "source": [
    "# Model\n",
    "Model = Sequential()"
   ]
  },
  {
   "cell_type": "code",
   "execution_count": 14,
   "metadata": {},
   "outputs": [
    {
     "name": "stderr",
     "output_type": "stream",
     "text": [
      "c:\\Users\\piyus\\AppData\\Local\\Programs\\Python\\Python312\\Lib\\site-packages\\keras\\src\\layers\\convolutional\\base_conv.py:99: UserWarning: Do not pass an `input_shape`/`input_dim` argument to a layer. When using Sequential models, prefer using an `Input(shape)` object as the first layer in the model instead.\n",
      "  super().__init__(\n"
     ]
    }
   ],
   "source": [
    "# Adding a convolution layer\n",
    "Model.add(Conv2D(32,(3,3), input_shape = (64,64,3), activation = 'relu'))"
   ]
  },
  {
   "cell_type": "code",
   "execution_count": 15,
   "metadata": {},
   "outputs": [],
   "source": [
    "# Pooling Layer\n",
    "Model.add(MaxPooling2D(pool_size=(2,2)))"
   ]
  },
  {
   "cell_type": "code",
   "execution_count": 16,
   "metadata": {},
   "outputs": [],
   "source": [
    "# Adding a convolution layer\n",
    "Model.add(Conv2D(16,(3,3), activation='relu'))"
   ]
  },
  {
   "cell_type": "code",
   "execution_count": 17,
   "metadata": {},
   "outputs": [],
   "source": [
    "# Pooling Layer\n",
    "Model.add(MaxPooling2D(pool_size=(2,2)))"
   ]
  },
  {
   "cell_type": "code",
   "execution_count": 18,
   "metadata": {},
   "outputs": [],
   "source": [
    "# Flatten Layer\n",
    "Model.add(Flatten())"
   ]
  },
  {
   "cell_type": "code",
   "execution_count": 19,
   "metadata": {},
   "outputs": [],
   "source": [
    "# ANN will take Flatten data as input\n",
    "# Flatten data size = 16*16 = 256"
   ]
  },
  {
   "cell_type": "code",
   "execution_count": 20,
   "metadata": {},
   "outputs": [],
   "source": [
    "# Full connection layer\n",
    "Model.add(Dense(units=128, activation='relu'))\n",
    "Model.add(Dense(units = 64, activation='relu'))\n",
    "Model.add(Dense(units= 1, activation='sigmoid'))"
   ]
  },
  {
   "cell_type": "code",
   "execution_count": 21,
   "metadata": {},
   "outputs": [],
   "source": [
    "# Model Compile\n",
    "Model.compile(optimizer='adam', loss='binary_crossentropy', metrics= ['accuracy'])"
   ]
  },
  {
   "cell_type": "code",
   "execution_count": 30,
   "metadata": {},
   "outputs": [
    {
     "name": "stdout",
     "output_type": "stream",
     "text": [
      "Epoch 1/5\n",
      "\u001b[1m42/42\u001b[0m \u001b[32m━━━━━━━━━━━━━━━━━━━━\u001b[0m\u001b[37m\u001b[0m \u001b[1m18s\u001b[0m 377ms/step - accuracy: 0.8912 - loss: 0.2509 - val_accuracy: 0.8750 - val_loss: 0.3368\n",
      "Epoch 2/5\n",
      "\u001b[1m42/42\u001b[0m \u001b[32m━━━━━━━━━━━━━━━━━━━━\u001b[0m\u001b[37m\u001b[0m \u001b[1m14s\u001b[0m 328ms/step - accuracy: 0.8916 - loss: 0.2827 - val_accuracy: 0.7500 - val_loss: 0.5423\n",
      "Epoch 3/5\n",
      "\u001b[1m 3/42\u001b[0m \u001b[32m━\u001b[0m\u001b[37m━━━━━━━━━━━━━━━━━━━\u001b[0m \u001b[1m1s\u001b[0m 48ms/step - accuracy: 0.8924 - loss: 0.2586"
     ]
    },
    {
     "name": "stderr",
     "output_type": "stream",
     "text": [
      "c:\\Users\\piyus\\AppData\\Local\\Programs\\Python\\Python312\\Lib\\contextlib.py:158: UserWarning: Your input ran out of data; interrupting training. Make sure that your dataset or generator can generate at least `steps_per_epoch * epochs` batches. You may need to use the `.repeat()` function when building your dataset.\n",
      "  self.gen.throw(value)\n"
     ]
    },
    {
     "name": "stdout",
     "output_type": "stream",
     "text": [
      "\u001b[1m42/42\u001b[0m \u001b[32m━━━━━━━━━━━━━━━━━━━━\u001b[0m\u001b[37m\u001b[0m \u001b[1m14s\u001b[0m 345ms/step - accuracy: 0.8930 - loss: 0.2476 - val_accuracy: 0.8381 - val_loss: 0.3336\n",
      "Epoch 4/5\n",
      "\u001b[1m42/42\u001b[0m \u001b[32m━━━━━━━━━━━━━━━━━━━━\u001b[0m\u001b[37m\u001b[0m \u001b[1m9s\u001b[0m 219ms/step - accuracy: 0.8912 - loss: 0.2566 - val_accuracy: 0.8088 - val_loss: 0.3817\n",
      "Epoch 5/5\n",
      "\u001b[1m42/42\u001b[0m \u001b[32m━━━━━━━━━━━━━━━━━━━━\u001b[0m\u001b[37m\u001b[0m \u001b[1m24s\u001b[0m 513ms/step - accuracy: 0.8994 - loss: 0.2280 - val_accuracy: 0.8551 - val_loss: 0.3242\n"
     ]
    },
    {
     "data": {
      "text/plain": [
       "<keras.src.callbacks.history.History at 0x1f8608f4230>"
      ]
     },
     "execution_count": 30,
     "metadata": {},
     "output_type": "execute_result"
    }
   ],
   "source": [
    "# For keras in case we use image data generator we will prefer\n",
    "# Model.fit_generator\n",
    "Model.fit(training_set, steps_per_epoch= 42,\n",
    "                    epochs = 5,\n",
    "                    validation_data= test_set,\n",
    "                    validation_steps = 11)"
   ]
  },
  {
   "cell_type": "code",
   "execution_count": 23,
   "metadata": {},
   "outputs": [],
   "source": [
    "# Test an image\n",
    "import numpy as np\n",
    "from keras.preprocessing import image"
   ]
  },
  {
   "cell_type": "code",
   "execution_count": 31,
   "metadata": {},
   "outputs": [],
   "source": [
    "# We will perform basic preprocessing \n",
    "testing_image = image.load_img(\"chest_xray/test/NORMAL/IM-0009-0001.jpeg\", target_size=(64,64))"
   ]
  },
  {
   "cell_type": "code",
   "execution_count": 32,
   "metadata": {},
   "outputs": [
    {
     "data": {
      "image/jpeg": "[encoded data removed]",
      "image/png": "[encoded data removed]",
      "text/plain": [
       "<PIL.Image.Image image mode=RGB size=64x64>"
      ]
     },
     "execution_count": 32,
     "metadata": {},
     "output_type": "execute_result"
    }
   ],
   "source": [
    "testing_image"
   ]
  },
  {
   "cell_type": "code",
   "execution_count": 33,
   "metadata": {},
   "outputs": [
    {
     "name": "stdout",
     "output_type": "stream",
     "text": [
      "\u001b[1m1/1\u001b[0m \u001b[32m━━━━━━━━━━━━━━━━━━━━\u001b[0m\u001b[37m\u001b[0m \u001b[1m0s\u001b[0m 32ms/step\n"
     ]
    }
   ],
   "source": [
    "test_image = image.img_to_array(testing_image)\n",
    "test_img = np.expand_dims(test_image,axis=0)\n",
    "pred = Model.predict(test_img)"
   ]
  },
  {
   "cell_type": "code",
   "execution_count": 34,
   "metadata": {},
   "outputs": [
    {
     "name": "stdout",
     "output_type": "stream",
     "text": [
      "My image is classified as : Normal\n"
     ]
    }
   ],
   "source": [
    "ref = {0: \"Normal\", 1:\"Pneumonia\"}\n",
    "print(\"My image is classified as :\", ref[int(pred[0][0])])"
   ]
  },
  {
   "cell_type": "code",
   "execution_count": 28,
   "metadata": {},
   "outputs": [
    {
     "name": "stderr",
     "output_type": "stream",
     "text": [
      "WARNING:absl:You are saving your model as an HDF5 file via `model.save()` or `keras.saving.save_model(model)`. This file format is considered legacy. We recommend using instead the native Keras format, e.g. `model.save('my_model.keras')` or `keras.saving.save_model(model, 'my_model.keras')`. \n"
     ]
    }
   ],
   "source": [
    "Model.save('model.h5')"
   ]
  },
  {
   "cell_type": "code",
   "execution_count": null,
   "metadata": {},
   "outputs": [],
   "source": []
  }
 ],
 "metadata": {
  "kernelspec": {
   "display_name": "Python 3",
   "language": "python",
   "name": "python3"
  },
  "language_info": {
   "codemirror_mode": {
    "name": "ipython",
    "version": 3
   },
   "file_extension": ".py",
   "mimetype": "text/x-python",
   "name": "python",
   "nbconvert_exporter": "python",
   "pygments_lexer": "ipython3",
   "version": "3.12.2"
  }
 },
 "nbformat": 4,
 "nbformat_minor": 2
}
